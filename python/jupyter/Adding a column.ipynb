{
 "cells": [
  {
   "cell_type": "code",
   "execution_count": 11,
   "metadata": {},
   "outputs": [],
   "source": [
    "import pandas as pd\n",
    "#from string import lower\n"
   ]
  },
  {
   "cell_type": "code",
   "execution_count": 5,
   "metadata": {},
   "outputs": [
    {
     "name": "stdout",
     "output_type": "stream",
     "text": [
      "   Product ID   Description  Cost to Manufacture  Price Sold in Bulk?  \\\n",
      "0           1  3 inch screw                  0.5   0.75           Yes   \n",
      "1           2   2 inch nail                  0.1   0.25           Yes   \n",
      "2           3        hammer                  3.0   5.50            No   \n",
      "3           4   screwdriver                  2.5   3.00            No   \n",
      "\n",
      "  Is taxed?  Revenue  \n",
      "0       Yes     0.25  \n",
      "1       Yes     0.15  \n",
      "2       Yes     2.50  \n",
      "3       Yes     0.50  \n",
      "##################################\n"
     ]
    }
   ],
   "source": [
    "df = pd.DataFrame([\n",
    "  [1, '3 inch screw', 0.5, 0.75],\n",
    "  [2, '2 inch nail', 0.10, 0.25],\n",
    "  [3, 'hammer', 3.00, 5.50],\n",
    "  [4, 'screwdriver', 2.50, 3.00]\n",
    "],\n",
    "  columns=['Product ID', 'Description', 'Cost to Manufacture', 'Price']\n",
    ")\n",
    "\n",
    "# Add columns here\n",
    "df['Sold in Bulk?'] = ['Yes', 'Yes', 'No', 'No']\n",
    "df['Is taxed?'] = 'Yes'\n",
    "df['Revenue'] = df['Price'] - df['Cost to Manufacture']\n",
    "print(df)\n",
    "print('##################################')"
   ]
  },
  {
   "cell_type": "code",
   "execution_count": 12,
   "metadata": {},
   "outputs": [
    {
     "name": "stdout",
     "output_type": "stream",
     "text": [
      "         Name                 Email\n",
      "0  JOHN SMITH  john.smith@gmail.com\n",
      "1    Jane Doe        jdoe@yahoo.com\n",
      "2   joe schmo  joeschmo@hotmail.com\n"
     ]
    }
   ],
   "source": [
    "df2 = pd.DataFrame([\n",
    "  ['JOHN SMITH', 'john.smith@gmail.com'],\n",
    "  ['Jane Doe', 'jdoe@yahoo.com'],\n",
    "  ['joe schmo', 'joeschmo@hotmail.com']\n",
    "],\n",
    "columns=['Name', 'Email'])\n",
    "\n",
    "# Add columns here\n",
    "#df2['Lowercase Name'] = df2.Name.apply(lower)\n",
    "print(df2)"
   ]
  },
  {
   "cell_type": "code",
   "execution_count": null,
   "metadata": {},
   "outputs": [],
   "source": []
  }
 ],
 "metadata": {
  "kernelspec": {
   "display_name": "Python 3",
   "language": "python",
   "name": "python3"
  },
  "language_info": {
   "codemirror_mode": {
    "name": "ipython",
    "version": 3
   },
   "file_extension": ".py",
   "mimetype": "text/x-python",
   "name": "python",
   "nbconvert_exporter": "python",
   "pygments_lexer": "ipython3",
   "version": "3.7.4"
  }
 },
 "nbformat": 4,
 "nbformat_minor": 2
}
