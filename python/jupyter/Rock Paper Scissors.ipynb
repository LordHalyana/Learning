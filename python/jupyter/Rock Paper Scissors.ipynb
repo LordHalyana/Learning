{
 "cells": [
  {
   "cell_type": "code",
   "execution_count": null,
   "metadata": {},
   "outputs": [],
   "source": [
    "rock = \"rock\"\n",
    "print(rock + \"...\")\n",
    "paper = 'paper'\n",
    "print(paper + \"...\")\n",
    "scissors = 'scissors'\n",
    "print(scissors + \"...\")\n",
    "game = [\"rock\",\"paper\", \"scissors\"]"
   ]
  },
  {
   "cell_type": "code",
   "execution_count": null,
   "metadata": {},
   "outputs": [],
   "source": [
    "player1 = input(\"Player 1, Make your move: \").lower()\n",
    "print(player1)\n",
    "player2 = input(\"Player 2, Make your move: \").lower()\n",
    "print(player2)"
   ]
  },
  {
   "cell_type": "code",
   "execution_count": null,
   "metadata": {},
   "outputs": [],
   "source": [
    "if player1 == player2:\n",
    "    print(\"It's a tie!\")\n",
    "elif player1 == rock:\n",
    "    if player2 == scissors:\n",
    "        print(\"Player 1 Wins!\")\n",
    "    elif player2 == paper:\n",
    "        print(\"Player 2 Wins!\")\n",
    "\n",
    "elif player1 == paper:\n",
    "    if player2 == rock:\n",
    "        print(\"Player 1 Wins!\")\n",
    "    elif player2 == scissors:\n",
    "        print(\"Player 2 Wins!\")\n",
    "\n",
    "elif player1 == scissors:\n",
    "    if player2 == paper:\n",
    "        print(\"Player 1 Wins!\")\n",
    "    elif player2 == rock:\n",
    "        print(\"Player 2 Wins!\")\n",
    "else:\n",
    "    print(\"something went wrong\")"
   ]
  },
  {
   "cell_type": "code",
   "execution_count": null,
   "metadata": {},
   "outputs": [],
   "source": []
  },
  {
   "cell_type": "code",
   "execution_count": null,
   "metadata": {},
   "outputs": [],
   "source": []
  }
 ],
 "metadata": {
  "kernelspec": {
   "display_name": "Python 3",
   "language": "python",
   "name": "python3"
  },
  "language_info": {
   "codemirror_mode": {
    "name": "ipython",
    "version": 3
   },
   "file_extension": ".py",
   "mimetype": "text/x-python",
   "name": "python",
   "nbconvert_exporter": "python",
   "pygments_lexer": "ipython3",
   "version": "3.7.6"
  }
 },
 "nbformat": 4,
 "nbformat_minor": 2
}
